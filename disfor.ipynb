{
  "nbformat": 4,
  "nbformat_minor": 0,
  "metadata": {
    "kernelspec": {
      "display_name": "Python 3",
      "language": "python",
      "name": "python3"
    },
    "language_info": {
      "codemirror_mode": {
        "name": "ipython",
        "version": 3
      },
      "file_extension": ".py",
      "mimetype": "text/x-python",
      "name": "python",
      "nbconvert_exporter": "python",
      "pygments_lexer": "ipython3",
      "version": "3.7.5"
    },
    "colab": {
      "name": "disfor.ipynb",
      "provenance": [],
      "collapsed_sections": [],
      "include_colab_link": true
    }
  },
  "cells": [
    {
      "cell_type": "markdown",
      "metadata": {
        "id": "view-in-github",
        "colab_type": "text"
      },
      "source": [
        "<a href=\"https://colab.research.google.com/github/claracoo/disaster_forcaster/blob/master/disfor.ipynb\" target=\"_parent\"><img src=\"https://colab.research.google.com/assets/colab-badge.svg\" alt=\"Open In Colab\"/></a>"
      ]
    },
    {
      "cell_type": "code",
      "metadata": {
        "id": "VDXD9_PVe1LM",
        "colab_type": "code",
        "colab": {}
      },
      "source": [
        "import numpy as np\n",
        "\n",
        "alarmWorthy = 1\n",
        "\n",
        "class BlackBox:\n",
        "    # Currently this is similar to heating something in a vacuum.\n",
        "    \n",
        "    def __init__(self, mass, specific_heat, starting_temp, alarm_value):\n",
        "        # Initial conditions.\n",
        "        self.mass = mass\n",
        "        self.specific_heat = specific_heat\n",
        "        self.starting_temp = starting_temp\n",
        "        self.alarm_value = alarm_value\n",
        "        \n",
        "    def operation(self, time, power):\n",
        "        self.operation = \"heat\"\n",
        "        self.time = time\n",
        "        self.power = power\n",
        "        \n",
        "        if self.black_box() > self.alarm_value:\n",
        "            self.alarm = True\n",
        "            print(self.black_box())\n",
        "        else:\n",
        "            self.alarm = False\n",
        "        \n",
        "        self.output_record()\n",
        "        \n",
        "    def black_box(self):\n",
        "        slope = self.power / (self.specific_heat * self.mass)\n",
        "        final_temp = slope * self.time + self.starting_temp\n",
        "        return final_temp\n",
        "    \n",
        "    def output_record(self):\n",
        "        print(self.time, self.power,\n",
        "              self.mass, self.specific_heat, self.starting_temp,\n",
        "              self.alarm_value, self.alarm)\n",
        "        output = np.array([np.array([self.time, self.power,\n",
        "              self.mass, self.specific_heat, self.starting_temp,\n",
        "              self.alarm_value]), np.array([self.alarm])])\n",
        "        return output"
      ],
      "execution_count": null,
      "outputs": []
    },
    {
      "cell_type": "code",
      "metadata": {
        "id": "_LkL1KVje1LX",
        "colab_type": "code",
        "colab": {
          "base_uri": "https://localhost:8080/",
          "height": 493
        },
        "outputId": "2b72d570-91bd-4a76-f07d-0d52c410a870"
      },
      "source": [
        "from random import random\n",
        "import numpy as np\n",
        "\n",
        "TRAINING = 6\n",
        "TESTING = 1\n",
        "DATA_POINTS_TRAINING = 6\n",
        "DATA_POINTS_TESTING = 1\n",
        "\n",
        "\n",
        "x_train = np.array([])\n",
        "x_test = np.array([])\n",
        "y_train = np.array([])\n",
        "y_test = np.array([])\n",
        "for i in range(7):\n",
        "    system = BlackBox(random(), random(), random(), alarmWorthy)\n",
        "    system.operation(random(), random())\n",
        "    output = system.output_record()\n",
        "    if i < 6:\n",
        "      x_train = np.append(x_train, output[0], axis=0)\n",
        "      y_train = np.append(y_train, output[1], axis=0)\n",
        "      # x_train.append(output[0])\n",
        "      # y_train.append(output[1])\n",
        "    else:\n",
        "      x_test = np.append(x_test, output[0], axis=0)\n",
        "      y_test = np.append(y_test, output[1], axis=0)\n",
        "      # x_test.append(output[0])\n",
        "      # y_test.append(output[1])\n",
        "\n",
        "x_train_shaped = x_train.reshape(DATA_POINTS_TRAINING, TRAINING)\n",
        "y_train_shaped = y_train.reshape(DATA_POINTS_TESTING, TRAINING)\n",
        "x_test_shaped = x_test.reshape(DATA_POINTS_TRAINING, TESTING)\n",
        "y_test_shaped = y_test.reshape(DATA_POINTS_TESTING, TESTING)\n",
        "\n",
        "x_train = x_train.reshape(1, 36)\n",
        "y_train = y_train.reshape(1, 6)\n",
        "x_test = x_test.reshape(1, 6)\n",
        "y_test = y_test.reshape(1, 1)\n",
        "\n",
        "\n",
        "print(x_train)\n",
        "print(x_test)\n",
        "print(y_train)\n",
        "print(y_test)"
      ],
      "execution_count": null,
      "outputs": [
        {
          "output_type": "stream",
          "text": [
            "2.0903599623708606\n",
            "0.8701288934137684 0.1760490686451378 0.6408099857318287 0.2071299137618332 0.93625521681507 1 True\n",
            "0.8701288934137684 0.1760490686451378 0.6408099857318287 0.2071299137618332 0.93625521681507 1 True\n",
            "2.3740100388966834\n",
            "0.8405962386234161 0.7811645654817468 0.9373907255490543 0.29995873114867355 0.03868241143968343 1 True\n",
            "0.8405962386234161 0.7811645654817468 0.9373907255490543 0.29995873114867355 0.03868241143968343 1 True\n",
            "2.561648651537423\n",
            "0.7101703671981148 0.39215588199831797 0.15946601006191397 0.8725288710024129 0.5600668394600784 1 True\n",
            "0.7101703671981148 0.39215588199831797 0.15946601006191397 0.8725288710024129 0.5600668394600784 1 True\n",
            "0.25203767233337093 0.7291301505330985 0.8121186405192766 0.8987992759570231 0.6615667870577587 1 False\n",
            "0.25203767233337093 0.7291301505330985 0.8121186405192766 0.8987992759570231 0.6615667870577587 1 False\n",
            "24.942724851605913\n",
            "0.49286275738839935 0.8260577194306696 0.10162655212921368 0.16433944491503427 0.565324540392948 1 True\n",
            "0.49286275738839935 0.8260577194306696 0.10162655212921368 0.16433944491503427 0.565324540392948 1 True\n",
            "0.10128472654225285 0.16312902862097134 0.6093341398380467 0.36640286361288 0.055493742106620725 1 False\n",
            "0.10128472654225285 0.16312902862097134 0.6093341398380467 0.36640286361288 0.055493742106620725 1 False\n",
            "21.782709420277097\n",
            "0.8925933898104969 0.698527952801252 0.15315892017762112 0.18819011316330525 0.15062560499650912 1 True\n",
            "0.8925933898104969 0.698527952801252 0.15315892017762112 0.18819011316330525 0.15062560499650912 1 True\n",
            "[[0.87012889 0.17604907 0.64080999 0.20712991 0.93625522 1.\n",
            "  0.84059624 0.78116457 0.93739073 0.29995873 0.03868241 1.\n",
            "  0.71017037 0.39215588 0.15946601 0.87252887 0.56006684 1.\n",
            "  0.25203767 0.72913015 0.81211864 0.89879928 0.66156679 1.\n",
            "  0.49286276 0.82605772 0.10162655 0.16433944 0.56532454 1.\n",
            "  0.10128473 0.16312903 0.60933414 0.36640286 0.05549374 1.        ]]\n",
            "[[0.89259339 0.69852795 0.15315892 0.18819011 0.1506256  1.        ]]\n",
            "[[1. 1. 1. 0. 1. 0.]]\n",
            "[[1.]]\n"
          ],
          "name": "stdout"
        }
      ]
    },
    {
      "cell_type": "code",
      "metadata": {
        "id": "FJhI4kbd4NMm",
        "colab_type": "code",
        "colab": {
          "base_uri": "https://localhost:8080/",
          "height": 357
        },
        "outputId": "df6102fb-cc8a-4f7f-e5cc-91334627471d"
      },
      "source": [
        "from random import randint\n",
        "TRAIN_SET_LIMIT = 1000\n",
        "TRAIN_SET_COUNT = 100\n",
        "\n",
        "TRAIN_INPUT = list()\n",
        "TRAIN_OUTPUT = list()\n",
        "\n",
        "x_train = list()\n",
        "x_test = list()\n",
        "y_train = list()\n",
        "y_test = list()\n",
        "for i in range(7):\n",
        "    system = BlackBox(random(), random(), random(), alarmWorthy)\n",
        "    system.operation(random(), random())\n",
        "    output = system.output_record()\n",
        "    if i < 6:\n",
        "      x_train.append(output[0])\n",
        "      y_train.append(output[1])\n",
        "      # x_train.append(output[0])\n",
        "      # y_train.append(output[1])\n",
        "    else:\n",
        "      x_test.append(output[0])\n",
        "      y_test.append(output[1])\n",
        "      # x_test.append(output[0])\n",
        "      # y_test.append(output[1])"
      ],
      "execution_count": null,
      "outputs": [
        {
          "output_type": "stream",
          "text": [
            "37.73537630224562\n",
            "0.48367356163831143 0.5452082539325684 0.10926124087857059 0.06442878966983978 0.27529898809909337 1 True\n",
            "0.48367356163831143 0.5452082539325684 0.10926124087857059 0.06442878966983978 0.27529898809909337 1 True\n",
            "17.771413182804952\n",
            "0.8597185369730557 0.27712314210490296 0.14784391422685728 0.0920167346593821 0.2584830260468347 1 True\n",
            "0.8597185369730557 0.27712314210490296 0.14784391422685728 0.0920167346593821 0.2584830260468347 1 True\n",
            "11.743007874996838\n",
            "0.7285692243039845 0.8927195767889955 0.08960435233793274 0.673722340390367 0.9690362582068681 1 True\n",
            "0.7285692243039845 0.8927195767889955 0.08960435233793274 0.673722340390367 0.9690362582068681 1 True\n",
            "3.868099923215022\n",
            "0.35863471354572507 0.5760114450207473 0.29492856186868643 0.22489280601345618 0.753580522149608 1 True\n",
            "0.35863471354572507 0.5760114450207473 0.29492856186868643 0.22489280601345618 0.753580522149608 1 True\n",
            "0.2835524607509282 0.5866481313197399 0.5225070303865598 0.7559205827127387 0.21027175432564593 1 False\n",
            "0.2835524607509282 0.5866481313197399 0.5225070303865598 0.7559205827127387 0.21027175432564593 1 False\n",
            "26.68057947667046\n",
            "0.3579003406239909 0.9746542066053322 0.06198480276950358 0.215140748509822 0.522565087628386 1 True\n",
            "0.3579003406239909 0.9746542066053322 0.06198480276950358 0.215140748509822 0.522565087628386 1 True\n",
            "4.483148457552746\n",
            "0.8493849488004102 0.37645660589051155 0.08404160730079291 0.8568838373775879 0.042941812947338676 1 True\n",
            "0.8493849488004102 0.37645660589051155 0.08404160730079291 0.8568838373775879 0.042941812947338676 1 True\n"
          ],
          "name": "stdout"
        }
      ]
    },
    {
      "cell_type": "code",
      "metadata": {
        "id": "Nw7GOJghuvEz",
        "colab_type": "code",
        "colab": {
          "base_uri": "https://localhost:8080/",
          "height": 51
        },
        "outputId": "482e0e35-0649-4ad0-80ac-e3072763ecb9"
      },
      "source": [
        "from sklearn.linear_model import LinearRegression\n",
        "\n",
        "predictor = LinearRegression(n_jobs=-1)\n",
        "predictor.fit(X=x_train, y=y_train)\n",
        "\n",
        "\n",
        "X_TEST = [[.007535, .08023398, .0621759, .81367, .2377854, .5]]\n",
        "outcome = predictor.predict(X=X_TEST)\n",
        "if outcome > alarmWorthy:\n",
        "  print(\"The lab will blow up: \", True)\n",
        "else:\n",
        "  print(\"The lab will blow up: \", False)\n",
        "# coefficients = predictor.coef_\n",
        "\n",
        "print('Outcome : {}'.format(outcome))"
      ],
      "execution_count": null,
      "outputs": [
        {
          "output_type": "stream",
          "text": [
            "The lab will blow up:  False\n",
            "Outcome : [[0.70273221]]\n"
          ],
          "name": "stdout"
        }
      ]
    },
    {
      "cell_type": "code",
      "metadata": {
        "id": "QRu1tMh8iAJq",
        "colab_type": "code",
        "colab": {}
      },
      "source": [
        "import matplotlib.pyplot as plt\n",
        "\n",
        "import tensorflow as tf\n",
        "# (x_train, y_train), (x_test, y_test) = data\n",
        "\n",
        "\n",
        "# Importing the required Keras modules containing model and layers\n",
        "from keras.models import Sequential\n",
        "from keras.layers import Dense, Conv2D, Dropout, Flatten, MaxPooling2D, AveragePooling2D\n",
        "\n",
        "\n",
        "# Creating a Sequential Model and adding the layers\n",
        "model = Sequential()\n",
        "# model.add(Conv2D(64, kernel_size=(3,3), ))\n",
        "# model.add(MaxPooling2D(pool_size=(2, 2)))\n",
        "model.add(Flatten()) # Flattening the 2D arrays for fully connected layers\n",
        "model.add(Dense(128, activation=tf.nn.relu))\n",
        "model.add(Dropout(0.2))\n",
        "#final layer must have two bc we have 2 final options\n",
        "model.add(Dense(2,activation=tf.nn.softmax))\n",
        "# print(type(x_train))\n",
        "model.compile(optimizer='adam', \n",
        "              loss='sparse_categorical_crossentropy', \n",
        "              metrics=['accuracy'])\n",
        "model.fit(x=x_train_shaped,y=y_train_shaped, epochs=5)\n",
        "\n",
        "# model.evaluate(x_test, y_test)"
      ],
      "execution_count": null,
      "outputs": []
    }
  ]
}